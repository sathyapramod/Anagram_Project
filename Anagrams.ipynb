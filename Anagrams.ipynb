{
 "cells": [
  {
   "cell_type": "code",
   "execution_count": 17,
   "metadata": {},
   "outputs": [
    {
     "name": "stdout",
     "output_type": "stream",
     "text": [
      "Enter the letter: APPLE\n",
      "<class 'str'>\n",
      "apple\n",
      "keywords are:  <class 'list'>\n",
      "<class 'list'>\n",
      "13\n",
      "['ale', 'all', 'alp', 'ape', 'eel', 'ell', 'epa', 'lap', 'lee', 'pal', 'pap', 'pea', 'pep']\n",
      "True\n"
     ]
    }
   ],
   "source": [
    "Enter_words = input(\"Enter the letter: \")\n",
    "print(type(Enter_words))\n",
    "\n",
    "#Converting the enter string to lower cases\n",
    "lower_word = Enter_words.lower()\n",
    "print(lower_word)\n",
    "\n",
    "#sorted_words = sorted(Enter_words)\n",
    "#print(sorted_words)\n",
    "\n",
    "keywords = []\n",
    "\n",
    "from itertools import product\n",
    "\n",
    "# keywords = itertools.product(sorted_words, repeat=3)\n",
    "\n",
    "#combining the letters\n",
    "keywords = [''.join(i) for i in product(lower_word, repeat=3)]\n",
    "print(\"keywords are: \",type(keywords)) #printing the keywords\n",
    "\n",
    "filename = 'dict.txt'\n",
    "\n",
    "with open(filename) as f:\n",
    "    read_lines = f.readlines() # reading eachline in the txt file\n",
    "read_lines = [x.strip() for x in read_lines] # To remove the while space in txt file\n",
    "#print(\"content are: \" , content)\n",
    "print(type(content))\n",
    "\n",
    "print(len(set(keywords) & set(read_lines))) #length of the words found\n",
    "print(sorted(set(keywords).intersection(read_lines))) # Sorted words \n",
    "print(bool(set(keywords).intersection(read_lines))) # to check words are matching\n",
    "\n",
    "\n"
   ]
  },
  {
   "cell_type": "code",
   "execution_count": null,
   "metadata": {},
   "outputs": [],
   "source": []
  },
  {
   "cell_type": "code",
   "execution_count": null,
   "metadata": {},
   "outputs": [],
   "source": []
  },
  {
   "cell_type": "code",
   "execution_count": null,
   "metadata": {},
   "outputs": [],
   "source": []
  }
 ],
 "metadata": {
  "kernelspec": {
   "display_name": "Python 3",
   "language": "python",
   "name": "python3"
  },
  "language_info": {
   "codemirror_mode": {
    "name": "ipython",
    "version": 3
   },
   "file_extension": ".py",
   "mimetype": "text/x-python",
   "name": "python",
   "nbconvert_exporter": "python",
   "pygments_lexer": "ipython3",
   "version": "3.7.3"
  }
 },
 "nbformat": 4,
 "nbformat_minor": 2
}
