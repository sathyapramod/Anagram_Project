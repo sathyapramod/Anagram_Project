{
 "cells": [
  {
   "cell_type": "code",
   "execution_count": 2,
   "metadata": {},
   "outputs": [
    {
     "name": "stdout",
     "output_type": "stream",
     "text": [
      "Enter the letter: hello\n",
      "<class 'str'>\n",
      "keywords are:  <class 'list'>\n",
      "<class 'list'>\n",
      "{'eel', 'ole', 'leo', 'lee', 'hoe', 'ell'}\n",
      "['eel', 'ell', 'hoe', 'lee', 'leo', 'ole']\n",
      "True\n"
     ]
    }
   ],
   "source": [
    "Enter_words = input(\"Enter the letter: \")\n",
    "print(type(Enter_words))\n",
    "\"\"\"sorted_words = sorted(Enter_words)\n",
    "print(sorted_words)\"\"\"\n",
    "\n",
    "keywords = []\n",
    "\n",
    "from itertools import product\n",
    "\n",
    "# keywords = itertools.product(sorted_words, repeat=3)\n",
    "\n",
    "keywords = [''.join(i) for i in product(Enter_words, repeat=3)]\n",
    "print(\"keywords are: \",type(keywords))\n",
    "\n",
    "filename = 'dict.txt'\n",
    "\n",
    "with open(filename) as f:\n",
    "    content = f.readlines()\n",
    "content = [x.strip() for x in content]\n",
    "#print(\"content are: \" , content)\n",
    "print(type(content))\n",
    "\n",
    "#print(set(keywords) & set(content))\n",
    "print(sorted(set(keywords).intersection(content)))\n",
    "print(bool(set(keywords).intersection(content)))\n",
    "\n"
   ]
  },
  {
   "cell_type": "code",
   "execution_count": null,
   "metadata": {},
   "outputs": [],
   "source": []
  }
 ],
 "metadata": {
  "kernelspec": {
   "display_name": "Python 3",
   "language": "python",
   "name": "python3"
  },
  "language_info": {
   "codemirror_mode": {
    "name": "ipython",
    "version": 3
   },
   "file_extension": ".py",
   "mimetype": "text/x-python",
   "name": "python",
   "nbconvert_exporter": "python",
   "pygments_lexer": "ipython3",
   "version": "3.7.3"
  }
 },
 "nbformat": 4,
 "nbformat_minor": 2
}
